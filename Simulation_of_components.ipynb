{
 "cells": [
  {
   "cell_type": "markdown",
   "metadata": {
    "id": "7TqWA36ocjJ6"
   },
   "source": [
    "# Generating matrices with a constant cross product\n",
    "## Companion document for *An AO-ADMM approach to constraining PARAFAC2 on all modes*\n",
    "**Marie Roald, Carla Schenker, Rasmus Bro, Jeremy E. Cohen, Evrim Acar**\n",
    "\n",
    "This notebook contains code that can be used to generate sets of matrices, $\\{\\mathbf{B}_k\\}_{k=1}^K$ , with a constant cross product. That is, sets of matrices that satisfy:\n",
    "$$\\mathbf{B}_{k_1}^\\mathsf{T} \\mathbf{B}_{k_1} = \\mathbf{B}_{k_2}^\\mathsf{T} \\mathbf{B}_{k_2}, $$\n",
    "for all pairs $k_1, k_2$.\n",
    "\n",
    "Each section corresponds to an experiment setup in the paper, which can be reffered to for more details.\n"
   ]
  },
  {
   "cell_type": "code",
   "execution_count": null,
   "metadata": {
    "id": "4OTz9dxP2agz"
   },
   "outputs": [],
   "source": [
    "import numpy as np\n",
    "from scipy import special, stats\n",
    "import matplotlib.pyplot as plt\n",
    "import ipywidgets as widgets"
   ]
  },
  {
   "cell_type": "code",
   "execution_count": null,
   "metadata": {
    "id": "PmxJMx-KAkY0"
   },
   "outputs": [],
   "source": [
    "def plot_cross_product(Bks):\n",
    "    \"\"\"Plot the cross product of each B_k-matrix.\n",
    "\n",
    "    If the cross product is constant, the plot should consist of only straight\n",
    "    horisontal lines.\n",
    "    \"\"\"\n",
    "    R = Bks[0].shape[1]\n",
    "    cross_products = np.stack([(Bk.T@Bk)[np.triu_indices(R)] for Bk in Bks], axis=-1)\n",
    "    i = np.arange(R)\n",
    "    cols, rows = np.meshgrid(i, i)\n",
    "    cols, rows = cols[np.triu_indices(R)], rows[np.triu_indices(R)]\n",
    "    labels = [r\"$[\\mathbf{B}_{k}^\\mathsf{T} \\mathbf{B}_{k}]_{%d %d}$\" %(row, col) for row, col in zip(rows, cols)]\n",
    "\n",
    "    fig, ax = plt.subplots()\n",
    "    ax.set_title(\"Elements of the (symmetric) cross product matrix\")\n",
    "\n",
    "    ax.set_ylabel(\"Cross product\")\n",
    "    ax.set_xlabel(\"$k$\")\n",
    "    for cross_product, label in zip(cross_products, labels):\n",
    "        ax.plot(cross_product, label=label)\n",
    "    ax.legend(ncol=2)\n",
    "    plt.show()"
   ]
  },
  {
   "cell_type": "markdown",
   "metadata": {
    "id": "x5Z2BfAl-oOq"
   },
   "source": [
    "# Setup 1: Non-negative shifting components for comparison with flexible coupling"
   ]
  },
  {
   "cell_type": "code",
   "execution_count": null,
   "metadata": {
    "id": "ZLd-eagx-uXE"
   },
   "outputs": [],
   "source": [
    "def generate_B_setup1(J, K, R):\n",
    "    blueprint = np.random.standard_normal(size=(J, R))\n",
    "    blueprint = np.maximum(blueprint, 0)\n",
    "    return [np.roll(blueprint, i, axis=0) for i in range(K)]"
   ]
  },
  {
   "cell_type": "code",
   "execution_count": null,
   "metadata": {
    "colab": {
     "base_uri": "https://localhost:8080/",
     "height": 328,
     "referenced_widgets": [
      "04128bc265614133aa1c585bfaa527d8",
      "f37b82b2d270458c829086954d54fc18",
      "b9b9ca086dd64253b2b61d1246518670",
      "4c7e6315a97d47ddad0d3690d1c67ba0",
      "dee37f5d176d4517bbc49aa3cda51c47",
      "6dea5a14a4a0465ba293b081976b8ae6",
      "5e3b64e3d8454f8d90e9225fbb23b90a"
     ]
    },
    "id": "0HxPVJiS2HfM",
    "outputId": "da0bb666-f27b-4837-c32f-84e23dc31bed"
   },
   "outputs": [],
   "source": [
    "num_attempts = 5\n",
    "J = 40\n",
    "K = 50\n",
    "R = 3\n",
    "B_setup1 = generate_B_setup1(J, K, R)\n",
    "\n",
    "@widgets.interact(k=(0, K-1))\n",
    "def replot(k):\n",
    "    plt.plot(B_setup1[k])\n",
    "    plt.title(f\"$\\mathbf{{B_{{{k}}}}}$\")\n",
    "    plt.xlabel(\"J\")"
   ]
  },
  {
   "cell_type": "code",
   "execution_count": null,
   "metadata": {
    "colab": {
     "base_uri": "https://localhost:8080/",
     "height": 297
    },
    "id": "_RwugwNp3N_s",
    "outputId": "f12241ba-5310-4f3a-e588-1eed8dead407"
   },
   "outputs": [],
   "source": [
    "plot_cross_product(B_setup1)"
   ]
  },
  {
   "cell_type": "markdown",
   "metadata": {
    "id": "wXXawJ2C-u_n"
   },
   "source": [
    "# Setup 2: General non-negativity setup with various levels of noise"
   ]
  },
  {
   "cell_type": "code",
   "execution_count": null,
   "metadata": {
    "id": "PxuAtuqV-tpq"
   },
   "outputs": [],
   "source": [
    "def generate_cross_product(r, n=100):\n",
    "    temp = np.random.uniform(size=(n, r))\n",
    "    temp = np.random.standard_normal(size=(n, r))\n",
    "    temp[temp<0] = 0\n",
    "\n",
    "    DtD = temp.T@temp\n",
    "    return DtD\n",
    "\n",
    "\n",
    "def random_matrix_constrained_cross_product(J, cross_product):\n",
    "    DtD = cross_product\n",
    "    success = False\n",
    "    stepsize = 1e-3\n",
    "    itermax = 10000\n",
    "    tol = 1e-12\n",
    "\n",
    "    for attempt in range(10):\n",
    "        err = []\n",
    "        B = np.random.standard_normal(size=(J, DtD.shape[0]))\n",
    "\n",
    "        for i in range(itermax):\n",
    "            # gradient step\n",
    "            B = B - stepsize * 4*(B@(B.T@B) - B@DtD)\n",
    "            B[B < 0] = 0\n",
    "\n",
    "            err.append(np.linalg.norm(B.T@B - DtD)**2)\n",
    "            if err[-1] < tol:\n",
    "                success = True\n",
    "                break\n",
    "        else:\n",
    "            stepsize /= 10\n",
    "\n",
    "        if success:\n",
    "            return B\n",
    "\n",
    "    raise RuntimeError(\"Didn't find a decomposition\")\n",
    "\n",
    "def generate_B_setup2(J_MIN, J_MAX, K, R):\n",
    "    cross_product = generate_cross_product(R)\n",
    "    return [random_matrix_constrained_cross_product(np.random.randint(J_MIN, J_MAX), cross_product) for _ in range(K)]"
   ]
  },
  {
   "cell_type": "code",
   "execution_count": null,
   "metadata": {
    "colab": {
     "base_uri": "https://localhost:8080/",
     "height": 328,
     "referenced_widgets": [
      "eb6925424e6648488c38c865fccfb131",
      "75c361b95d8f4f26923ce7a4ff04ad51",
      "54daa78c2d7645f6a28827a2e000fa42",
      "2c4b8c23335f431c92e87571fcc986ad",
      "c6dae84b55ff4d7f8d3f7a1eddf4bd8c",
      "b3b0947b385642f59b5daf4948a05913",
      "1da2d61985eb4d9d921720d41ca6b542"
     ]
    },
    "id": "veZw6rH3A30e",
    "outputId": "6c200047-3cb8-430d-ee8b-22d73eda50ae"
   },
   "outputs": [],
   "source": [
    "num_attempts = 5\n",
    "J_min, J_max = 50, 100\n",
    "K = 40\n",
    "R = 3\n",
    "B_setup2 = generate_B_setup2(J_min, J_max, K, R)\n",
    "\n",
    "@widgets.interact(k=(0, K-1))\n",
    "def replot(k):\n",
    "    plt.plot(B_setup2[k])\n",
    "    plt.title(f\"$\\mathbf{{B_{{{k}}}}}$\")\n",
    "    plt.xlabel(\"J\")"
   ]
  },
  {
   "cell_type": "code",
   "execution_count": null,
   "metadata": {
    "colab": {
     "base_uri": "https://localhost:8080/",
     "height": 297
    },
    "id": "Av0F8OYpA_Sv",
    "outputId": "41c8118b-77c7-41a0-d919-4c4206d630f2"
   },
   "outputs": [],
   "source": [
    "plot_cross_product(B_setup2)"
   ]
  },
  {
   "cell_type": "markdown",
   "metadata": {
    "id": "a-ggW9IR-tUr"
   },
   "source": [
    "# Setup 3: Shifting unimodal non-negative components  with varying widths"
   ]
  },
  {
   "cell_type": "code",
   "execution_count": null,
   "metadata": {
    "id": "Lgrf4KiG-n9n"
   },
   "outputs": [],
   "source": [
    "def generate_B_setup3(J, K, R):\n",
    "    sigmas = [np.random.uniform(0.5, 1) for r in range(R)]\n",
    "    t = np.linspace(-10, 10, J)\n",
    "    dt = np.diff(t)[0]\n",
    "    locs = [np.random.uniform(-7, 0) for r in range(R)]\n",
    "    Bks = []\n",
    "    for k in range(K):\n",
    "        Bk = np.zeros((J, R))\n",
    "        for r in range(R):\n",
    "            Bk[:, r] = stats.norm.pdf(t, loc=locs[r] + k*dt, scale=sigmas[r] + np.random.standard_normal()*0.1)\n",
    "        Bks.append(Bk)\n",
    "\n",
    "    return Bks"
   ]
  },
  {
   "cell_type": "code",
   "execution_count": null,
   "metadata": {
    "colab": {
     "base_uri": "https://localhost:8080/",
     "height": 328,
     "referenced_widgets": [
      "e30e1ad4c1be422db9acaa6bb844b59d",
      "430a0d083ad245838a31c16e9c6dd975",
      "20212a5af9434857be31c9cc451b9814",
      "3aeee48e13c24862aa5a2b6ecb6ca3d8",
      "96378473d26a409fa962798368ac9bcb",
      "7159279c8ffb46c6b6baa253b60e2e46",
      "c5a280b00f4648048540e6042a3200ce"
     ]
    },
    "id": "Q0mWe0n2BtYV",
    "outputId": "9f579879-cf5f-4164-be30-1445125e6d37"
   },
   "outputs": [],
   "source": [
    "J = 50\n",
    "K = 15\n",
    "R = 5\n",
    "B_setup3 = generate_B_setup3(J, K, R)\n",
    "\n",
    "@widgets.interact(k=(0, K-1))\n",
    "def replot(k):\n",
    "    plt.plot(B_setup3[k])\n",
    "    plt.title(f\"$\\mathbf{{B_{{{k}}}}}$\")\n",
    "    plt.xlabel(\"J\")"
   ]
  },
  {
   "cell_type": "code",
   "execution_count": null,
   "metadata": {
    "colab": {
     "base_uri": "https://localhost:8080/",
     "height": 297
    },
    "id": "AXgZg6ziBtC6",
    "outputId": "ee99337d-1cca-4668-f7ed-9e5e8c21baa5"
   },
   "outputs": [],
   "source": [
    "plot_cross_product(B_setup3)"
   ]
  },
  {
   "cell_type": "markdown",
   "metadata": {
    "id": "a-ggW9IR-tUr"
   },
   "source": [
    "# Setup 3b: Shifting unimodal non-negative components"
   ]
  },
  {
   "cell_type": "code",
   "execution_count": null,
   "metadata": {
    "id": "Lgrf4KiG-n9n"
   },
   "outputs": [],
   "source": [
    "def generate_B_col(J):\n",
    "    sigma = np.random.uniform(0.5, 1)\n",
    "    shift = round(np.random.uniform(-J/3, 0))\n",
    "    t = np.linspace(-10, 10, J)\n",
    "    return np.roll(stats.norm.pdf(t, scale=sigma), shift)\n",
    "\n",
    "\n",
    "def generate_blueprint_B(J, R):\n",
    "    return np.stack([generate_B_col(J) for _ in range(R)], axis=-1)\n",
    "\n",
    "\n",
    "def generate_B_setup3b(J, K, R):\n",
    "    blueprint_B = generate_blueprint_B(J, R)\n",
    "    return [np.roll(blueprint_B, shift, axis=0) for shift in range(K)]"
   ]
  },
  {
   "cell_type": "code",
   "execution_count": null,
   "metadata": {
    "colab": {
     "base_uri": "https://localhost:8080/",
     "height": 328,
     "referenced_widgets": [
      "e30e1ad4c1be422db9acaa6bb844b59d",
      "430a0d083ad245838a31c16e9c6dd975",
      "20212a5af9434857be31c9cc451b9814",
      "3aeee48e13c24862aa5a2b6ecb6ca3d8",
      "96378473d26a409fa962798368ac9bcb",
      "7159279c8ffb46c6b6baa253b60e2e46",
      "c5a280b00f4648048540e6042a3200ce"
     ]
    },
    "id": "Q0mWe0n2BtYV",
    "outputId": "9f579879-cf5f-4164-be30-1445125e6d37"
   },
   "outputs": [],
   "source": [
    "J = 50\n",
    "K = 15\n",
    "R = 5\n",
    "B_setup3b = generate_B_setup3b(J, K, R)\n",
    "\n",
    "@widgets.interact(k=(0, K-1))\n",
    "def replot(k):\n",
    "    plt.plot(B_setup3b[k])\n",
    "    plt.title(f\"$\\mathbf{{B_{{{k}}}}}$\")\n",
    "    plt.xlabel(\"J\")"
   ]
  },
  {
   "cell_type": "code",
   "execution_count": null,
   "metadata": {
    "colab": {
     "base_uri": "https://localhost:8080/",
     "height": 297
    },
    "id": "AXgZg6ziBtC6",
    "outputId": "ee99337d-1cca-4668-f7ed-9e5e8c21baa5"
   },
   "outputs": [],
   "source": [
    "plot_cross_product(B_setup3)"
   ]
  },
  {
   "cell_type": "markdown",
   "metadata": {
    "id": "rn2IxQMR-sOP"
   },
   "source": [
    "# Setup 4: Smooth cubic functions for graph Laplacian regularisation"
   ]
  },
  {
   "cell_type": "code",
   "execution_count": null,
   "metadata": {
    "id": "9mGyZE4fCzAd"
   },
   "outputs": [],
   "source": [
    "def random_orthogonal(J, R):\n",
    "    return np.linalg.qr(np.random.standard_normal((J, R)))[0]\n",
    "\n",
    "def generate_B_setup4(J, K, R, max_order):\n",
    "    coordinate_matrix = np.random.standard_normal(size=(R, R))\n",
    "\n",
    "    basis_matrices = []\n",
    "    for k in range(K):\n",
    "        t = np.linspace(-1, 1, J)\n",
    "        polys = np.stack([t**order for order in range(max_order + 1)], axis=-1)\n",
    "        U, s, Vh = np.linalg.svd(polys, full_matrices=False)\n",
    "        basis_matrices.append(U@random_orthogonal(max_order + 1, R))\n",
    "    return [basis_matrix @ coordinate_matrix for basis_matrix in basis_matrices]"
   ]
  },
  {
   "cell_type": "code",
   "execution_count": null,
   "metadata": {
    "colab": {
     "base_uri": "https://localhost:8080/",
     "height": 328,
     "referenced_widgets": [
      "893c425878c84c63bb78256a52d5f16b",
      "828a28e6417b4b3c99233369beae2b3e",
      "ab37095f8a0e462c943f6d89dbf49eee",
      "2e379699ccaf43759dfe040b95c3a801",
      "ef1818e43c6547e292c32651ccac8ec8",
      "15cb766e36ca402c9d3d7a2ca889502e",
      "e382c41883df4df39cb9ef59e795e423"
     ]
    },
    "id": "HI8Bo82s-nrx",
    "outputId": "5bad1ddd-4a31-4a1b-cbf6-12a6f3487901"
   },
   "outputs": [],
   "source": [
    "J = 200\n",
    "K = 30\n",
    "R = 3\n",
    "MAX_ORDER = 3\n",
    "\n",
    "B_setup4 = generate_B_setup4(J, K, R, MAX_ORDER)\n",
    "\n",
    "@widgets.interact(k=(0, K-1))\n",
    "def replot(k):\n",
    "    plt.plot(B_setup4[k])\n",
    "    plt.title(f\"$\\mathbf{{B_{{{k}}}}}$\")\n",
    "    plt.xlabel(\"J\")"
   ]
  },
  {
   "cell_type": "code",
   "execution_count": null,
   "metadata": {
    "colab": {
     "base_uri": "https://localhost:8080/",
     "height": 297
    },
    "id": "klIYQRYWC_Dw",
    "outputId": "08742284-c7a7-479e-da9e-1f6aa998a241"
   },
   "outputs": [],
   "source": [
    "plot_cross_product(B_setup4)"
   ]
  },
  {
   "cell_type": "markdown",
   "metadata": {
    "id": "QUKjZFUg-1G1"
   },
   "source": [
    "# Setup 5: Piecewise constant components for TV regularisation"
   ]
  },
  {
   "cell_type": "code",
   "execution_count": null,
   "metadata": {
    "id": "Uo_jLk_g-0GT"
   },
   "outputs": [],
   "source": [
    "def column_constant_orthogonal(J, R):\n",
    "    # Generate random partition\n",
    "    P = np.zeros((J, R))\n",
    "    while np.linalg.matrix_rank(P) != R:\n",
    "        P *= 0\n",
    "        indices = J*np.cumsum(np.random.dirichlet(np.ones(R)))\n",
    "        indices = [0] + np.round(indices).astype(int).tolist()\n",
    "        value = np.random.standard_normal()\n",
    "        for r, (start, stop) in enumerate(zip(indices[:-1], indices[1:])):\n",
    "            P[start:stop, r] = value\n",
    "\n",
    "\n",
    "    return P / np.linalg.norm(P, axis=0)\n",
    "\n",
    "\n",
    "def generate_B_setup5(J_MIN, J_MAX, K, R, num_signals):\n",
    "    coordinate_matrix = np.zeros((num_signals, R))\n",
    "    while np.any(np.sum(np.abs(coordinate_matrix), axis=0) == 0):\n",
    "        for column in range(R):\n",
    "            selected_signals = np.random.choice(num_signals, 2, replace=False)\n",
    "            coordinate_matrix[selected_signals, column] = np.random.standard_normal(2)\n",
    "\n",
    "    basis_matrices = [\n",
    "        column_constant_orthogonal(np.random.randint(J_MIN, J_MAX), num_signals)\n",
    "        for k in range(K)\n",
    "    ]\n",
    "    return [basis_matrix @ coordinate_matrix for basis_matrix in basis_matrices]"
   ]
  },
  {
   "cell_type": "code",
   "execution_count": null,
   "metadata": {
    "colab": {
     "base_uri": "https://localhost:8080/",
     "height": 328,
     "referenced_widgets": [
      "ff56582566774df6a49bd30d563ce198",
      "f3309d2b5fe74ff2ba3e37ccd24de041",
      "793ba9bc2d0c4d019457062472b84729",
      "553aed478a804a909ff84e0d94014cbf",
      "7ea5a67a0f2b46a7a45c2676c2c77de1",
      "8667074b849946c3bf426fc83e0e78ba",
      "8c5c41179b7b41f4b187779d5067a93e"
     ]
    },
    "id": "gNe85-Lj-0Wh",
    "outputId": "e7c9990a-7e29-497d-9f49-88c35e297564"
   },
   "outputs": [],
   "source": [
    "J_min = 200\n",
    "J_max = 251\n",
    "K = 30\n",
    "R = 3\n",
    "NUM_SIGNALS = 4\n",
    "B_setup5 = generate_B_setup5(J_min, J_max, K, R, NUM_SIGNALS)\n",
    "\n",
    "@widgets.interact(k=(0, K-1))\n",
    "def replot(k):\n",
    "    plt.plot(B_setup5[k])\n",
    "    plt.title(f\"$\\mathbf{{B_{{{k}}}}}$\")\n",
    "    plt.xlabel(\"J\")"
   ]
  },
  {
   "cell_type": "code",
   "execution_count": null,
   "metadata": {
    "colab": {
     "base_uri": "https://localhost:8080/",
     "height": 297
    },
    "id": "HJQYOZy7aqZM",
    "outputId": "889e5e60-d779-4d0c-eab4-7bbab492dab2"
   },
   "outputs": [],
   "source": [
    "plot_cross_product(B_setup5)"
   ]
  },
  {
   "cell_type": "markdown",
   "metadata": {
    "id": "wO78X9j2-53K"
   },
   "source": [
    "# Setup 6: Shifting non-negative components for evaluating the cwSNR"
   ]
  },
  {
   "cell_type": "code",
   "execution_count": null,
   "metadata": {
    "colab": {
     "base_uri": "https://localhost:8080/",
     "height": 328,
     "referenced_widgets": [
      "19832b6f219e47f997887c7db22af834",
      "127454968d594cd992cfc7cc57fd0714",
      "ba5e28014d554b94b2cc29f1138c2a99",
      "3d6c1f9d01b14121a6537cf125598054",
      "40069d5edd83476c998c6d179a00fc26",
      "9505ce0b95a943bfb5cf4cace1d47ff7",
      "df96abc74f0c48f58a5ed5188bbbeb69"
     ]
    },
    "id": "M0ZPbLZJ-0g7",
    "outputId": "4b355ea4-97b3-4b76-8f2e-ca413fb6b79d"
   },
   "outputs": [],
   "source": [
    "J = 40\n",
    "K = 100\n",
    "R = 5\n",
    "\n",
    "blueprint = np.random.standard_normal((J, R))\n",
    "blueprint[blueprint < 0] = 0\n",
    "B_setup6 = [np.roll(blueprint, k, axis=0) for k in range(K)]\n",
    "\n",
    "\n",
    "@widgets.interact(k=(0, K-1))\n",
    "def replot(k):\n",
    "    plt.plot(B_setup6[k])\n",
    "    plt.title(f\"$\\mathbf{{B_{{{k}}}}}$\")\n",
    "    plt.xlabel(\"J\")"
   ]
  },
  {
   "cell_type": "code",
   "execution_count": null,
   "metadata": {
    "colab": {
     "base_uri": "https://localhost:8080/",
     "height": 297
    },
    "id": "1PmYRXke-7IX",
    "outputId": "73807376-2fa7-4106-c029-e9cb157715b6"
   },
   "outputs": [],
   "source": [
    "plot_cross_product(B_setup6)"
   ]
  },
  {
   "cell_type": "markdown",
   "metadata": {
    "id": "yS33uK5o-8bu"
   },
   "source": [
    "# Setup SM1: Product of non-negative matrices for comparison of different update rules"
   ]
  },
  {
   "cell_type": "code",
   "execution_count": null,
   "metadata": {
    "id": "G8VrXFv_-7at"
   },
   "outputs": [],
   "source": [
    "def shuffle_matrix(A):\n",
    "    shuffle_indices = np.arange(A.shape[0])\n",
    "    np.random.shuffle(shuffle_indices)\n",
    "\n",
    "    A = A[shuffle_indices, :]\n",
    "    return A\n",
    "\n",
    "\n",
    "def non_negative_orthogonal(J, R):\n",
    "    # Generate random partition\n",
    "    P = np.zeros((J, R))\n",
    "    while np.linalg.matrix_rank(P) != R:\n",
    "        P *= 0\n",
    "        indices = J*np.cumsum(np.random.dirichlet(np.ones(R)))\n",
    "        indices = [0] + np.round(indices).astype(int).tolist()\n",
    "        for r, (start, stop) in enumerate(zip(indices[:-1], indices[1:])):\n",
    "            P[start:stop, r] = np.random.uniform(size=stop - start)\n",
    "      \n",
    "    \n",
    "    return shuffle_matrix(P / np.linalg.norm(P, axis=0))\n",
    "\n",
    "\n",
    "\n",
    "def generate_B_setupsm1(K, J, R):\n",
    "    blueprint = np.random.uniform(size=(R, R))\n",
    "    blueprint += np.eye(R)\n",
    "    Pks = [non_negative_orthogonal(J, R) for _ in range(K)]\n",
    "    return [Pk@blueprint for Pk in Pks]\n"
   ]
  },
  {
   "cell_type": "code",
   "execution_count": null,
   "metadata": {
    "colab": {
     "base_uri": "https://localhost:8080/",
     "height": 328,
     "referenced_widgets": [
      "36b7eef4757c4029afde522bad1ffaea",
      "e4b59a77dd6748fd9293252cc37c2d27",
      "980ac8c51b484f9786d7d95b978d9375",
      "d8fec346fcc749f8926a3dd22a8dd4fa",
      "1db89ce616b548da8a76fdd719fa7187",
      "d498195c28b64578969577475ab4a848",
      "628e80b93cc0422db0e36616d1ae4f37"
     ]
    },
    "id": "w6XO0NefuC50",
    "outputId": "8b08015b-2160-4a1c-d77c-256a4f9c0b6d"
   },
   "outputs": [],
   "source": [
    "J = 100\n",
    "K = 70\n",
    "R = 3\n",
    "B_setupsm1 = generate_B_setupsm1(J, K, R)\n",
    "\n",
    "\n",
    "@widgets.interact(k=(0, K-1))\n",
    "def replot(k):\n",
    "    plt.plot(B_setupsm1[k])\n",
    "    plt.title(f\"$\\mathbf{{B_{{{k}}}}}$\")\n",
    "    plt.xlabel(\"J\")"
   ]
  },
  {
   "cell_type": "code",
   "execution_count": null,
   "metadata": {
    "colab": {
     "base_uri": "https://localhost:8080/",
     "height": 297
    },
    "id": "ognCxD8w3ItB",
    "outputId": "e34987b0-3cc0-46d0-8cb2-56a37e955b60"
   },
   "outputs": [],
   "source": [
    "plot_cross_product(B_setupsm1)"
   ]
  },
  {
   "cell_type": "code",
   "execution_count": null,
   "metadata": {
    "id": "FH2SbvhPgg4a"
   },
   "outputs": [],
   "source": []
  }
 ],
 "metadata": {
  "colab": {
   "collapsed_sections": [],
   "name": "Simulation of components.ipynb",
   "provenance": []
  },
  "kernelspec": {
   "display_name": "Python 3 (ipykernel)",
   "language": "python",
   "name": "python3"
  },
  "language_info": {
   "codemirror_mode": {
    "name": "ipython",
    "version": 3
   },
   "file_extension": ".py",
   "mimetype": "text/x-python",
   "name": "python",
   "nbconvert_exporter": "python",
   "pygments_lexer": "ipython3",
   "version": "3.9.7"
  },
  "widgets": {
   "application/vnd.jupyter.widget-state+json": {
    "04128bc265614133aa1c585bfaa527d8": {
     "model_module": "@jupyter-widgets/controls",
     "model_module_version": "1.5.0",
     "model_name": "VBoxModel",
     "state": {
      "_dom_classes": [
       "widget-interact"
      ],
      "_model_module": "@jupyter-widgets/controls",
      "_model_module_version": "1.5.0",
      "_model_name": "VBoxModel",
      "_view_count": null,
      "_view_module": "@jupyter-widgets/controls",
      "_view_module_version": "1.5.0",
      "_view_name": "VBoxView",
      "box_style": "",
      "children": [
       "IPY_MODEL_b9b9ca086dd64253b2b61d1246518670",
       "IPY_MODEL_4c7e6315a97d47ddad0d3690d1c67ba0"
      ],
      "layout": "IPY_MODEL_f37b82b2d270458c829086954d54fc18"
     }
    },
    "127454968d594cd992cfc7cc57fd0714": {
     "model_module": "@jupyter-widgets/base",
     "model_module_version": "1.2.0",
     "model_name": "LayoutModel",
     "state": {
      "_model_module": "@jupyter-widgets/base",
      "_model_module_version": "1.2.0",
      "_model_name": "LayoutModel",
      "_view_count": null,
      "_view_module": "@jupyter-widgets/base",
      "_view_module_version": "1.2.0",
      "_view_name": "LayoutView",
      "align_content": null,
      "align_items": null,
      "align_self": null,
      "border": null,
      "bottom": null,
      "display": null,
      "flex": null,
      "flex_flow": null,
      "grid_area": null,
      "grid_auto_columns": null,
      "grid_auto_flow": null,
      "grid_auto_rows": null,
      "grid_column": null,
      "grid_gap": null,
      "grid_row": null,
      "grid_template_areas": null,
      "grid_template_columns": null,
      "grid_template_rows": null,
      "height": null,
      "justify_content": null,
      "justify_items": null,
      "left": null,
      "margin": null,
      "max_height": null,
      "max_width": null,
      "min_height": null,
      "min_width": null,
      "object_fit": null,
      "object_position": null,
      "order": null,
      "overflow": null,
      "overflow_x": null,
      "overflow_y": null,
      "padding": null,
      "right": null,
      "top": null,
      "visibility": null,
      "width": null
     }
    },
    "15cb766e36ca402c9d3d7a2ca889502e": {
     "model_module": "@jupyter-widgets/base",
     "model_module_version": "1.2.0",
     "model_name": "LayoutModel",
     "state": {
      "_model_module": "@jupyter-widgets/base",
      "_model_module_version": "1.2.0",
      "_model_name": "LayoutModel",
      "_view_count": null,
      "_view_module": "@jupyter-widgets/base",
      "_view_module_version": "1.2.0",
      "_view_name": "LayoutView",
      "align_content": null,
      "align_items": null,
      "align_self": null,
      "border": null,
      "bottom": null,
      "display": null,
      "flex": null,
      "flex_flow": null,
      "grid_area": null,
      "grid_auto_columns": null,
      "grid_auto_flow": null,
      "grid_auto_rows": null,
      "grid_column": null,
      "grid_gap": null,
      "grid_row": null,
      "grid_template_areas": null,
      "grid_template_columns": null,
      "grid_template_rows": null,
      "height": null,
      "justify_content": null,
      "justify_items": null,
      "left": null,
      "margin": null,
      "max_height": null,
      "max_width": null,
      "min_height": null,
      "min_width": null,
      "object_fit": null,
      "object_position": null,
      "order": null,
      "overflow": null,
      "overflow_x": null,
      "overflow_y": null,
      "padding": null,
      "right": null,
      "top": null,
      "visibility": null,
      "width": null
     }
    },
    "19832b6f219e47f997887c7db22af834": {
     "model_module": "@jupyter-widgets/controls",
     "model_module_version": "1.5.0",
     "model_name": "VBoxModel",
     "state": {
      "_dom_classes": [
       "widget-interact"
      ],
      "_model_module": "@jupyter-widgets/controls",
      "_model_module_version": "1.5.0",
      "_model_name": "VBoxModel",
      "_view_count": null,
      "_view_module": "@jupyter-widgets/controls",
      "_view_module_version": "1.5.0",
      "_view_name": "VBoxView",
      "box_style": "",
      "children": [
       "IPY_MODEL_ba5e28014d554b94b2cc29f1138c2a99",
       "IPY_MODEL_3d6c1f9d01b14121a6537cf125598054"
      ],
      "layout": "IPY_MODEL_127454968d594cd992cfc7cc57fd0714"
     }
    },
    "1da2d61985eb4d9d921720d41ca6b542": {
     "model_module": "@jupyter-widgets/base",
     "model_module_version": "1.2.0",
     "model_name": "LayoutModel",
     "state": {
      "_model_module": "@jupyter-widgets/base",
      "_model_module_version": "1.2.0",
      "_model_name": "LayoutModel",
      "_view_count": null,
      "_view_module": "@jupyter-widgets/base",
      "_view_module_version": "1.2.0",
      "_view_name": "LayoutView",
      "align_content": null,
      "align_items": null,
      "align_self": null,
      "border": null,
      "bottom": null,
      "display": null,
      "flex": null,
      "flex_flow": null,
      "grid_area": null,
      "grid_auto_columns": null,
      "grid_auto_flow": null,
      "grid_auto_rows": null,
      "grid_column": null,
      "grid_gap": null,
      "grid_row": null,
      "grid_template_areas": null,
      "grid_template_columns": null,
      "grid_template_rows": null,
      "height": null,
      "justify_content": null,
      "justify_items": null,
      "left": null,
      "margin": null,
      "max_height": null,
      "max_width": null,
      "min_height": null,
      "min_width": null,
      "object_fit": null,
      "object_position": null,
      "order": null,
      "overflow": null,
      "overflow_x": null,
      "overflow_y": null,
      "padding": null,
      "right": null,
      "top": null,
      "visibility": null,
      "width": null
     }
    },
    "1db89ce616b548da8a76fdd719fa7187": {
     "model_module": "@jupyter-widgets/controls",
     "model_module_version": "1.5.0",
     "model_name": "SliderStyleModel",
     "state": {
      "_model_module": "@jupyter-widgets/controls",
      "_model_module_version": "1.5.0",
      "_model_name": "SliderStyleModel",
      "_view_count": null,
      "_view_module": "@jupyter-widgets/base",
      "_view_module_version": "1.2.0",
      "_view_name": "StyleView",
      "description_width": "",
      "handle_color": null
     }
    },
    "20212a5af9434857be31c9cc451b9814": {
     "model_module": "@jupyter-widgets/controls",
     "model_module_version": "1.5.0",
     "model_name": "IntSliderModel",
     "state": {
      "_dom_classes": [],
      "_model_module": "@jupyter-widgets/controls",
      "_model_module_version": "1.5.0",
      "_model_name": "IntSliderModel",
      "_view_count": null,
      "_view_module": "@jupyter-widgets/controls",
      "_view_module_version": "1.5.0",
      "_view_name": "IntSliderView",
      "continuous_update": true,
      "description": "k",
      "description_tooltip": null,
      "disabled": false,
      "layout": "IPY_MODEL_7159279c8ffb46c6b6baa253b60e2e46",
      "max": 14,
      "min": 0,
      "orientation": "horizontal",
      "readout": true,
      "readout_format": "d",
      "step": 1,
      "style": "IPY_MODEL_96378473d26a409fa962798368ac9bcb",
      "value": 7
     }
    },
    "2c4b8c23335f431c92e87571fcc986ad": {
     "model_module": "@jupyter-widgets/output",
     "model_module_version": "1.0.0",
     "model_name": "OutputModel",
     "state": {
      "_dom_classes": [],
      "_model_module": "@jupyter-widgets/output",
      "_model_module_version": "1.0.0",
      "_model_name": "OutputModel",
      "_view_count": null,
      "_view_module": "@jupyter-widgets/output",
      "_view_module_version": "1.0.0",
      "_view_name": "OutputView",
      "layout": "IPY_MODEL_1da2d61985eb4d9d921720d41ca6b542",
      "msg_id": "",
      "outputs": [
       {
        "data": {
         "image/png": "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\n",
         "text/plain": "<Figure size 432x288 with 1 Axes>"
        },
        "metadata": {
         "needs_background": "light"
        },
        "output_type": "display_data"
       }
      ]
     }
    },
    "2e379699ccaf43759dfe040b95c3a801": {
     "model_module": "@jupyter-widgets/output",
     "model_module_version": "1.0.0",
     "model_name": "OutputModel",
     "state": {
      "_dom_classes": [],
      "_model_module": "@jupyter-widgets/output",
      "_model_module_version": "1.0.0",
      "_model_name": "OutputModel",
      "_view_count": null,
      "_view_module": "@jupyter-widgets/output",
      "_view_module_version": "1.0.0",
      "_view_name": "OutputView",
      "layout": "IPY_MODEL_e382c41883df4df39cb9ef59e795e423",
      "msg_id": "",
      "outputs": [
       {
        "data": {
         "image/png": "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\n",
         "text/plain": "<Figure size 432x288 with 1 Axes>"
        },
        "metadata": {
         "needs_background": "light"
        },
        "output_type": "display_data"
       }
      ]
     }
    },
    "36b7eef4757c4029afde522bad1ffaea": {
     "model_module": "@jupyter-widgets/controls",
     "model_module_version": "1.5.0",
     "model_name": "VBoxModel",
     "state": {
      "_dom_classes": [
       "widget-interact"
      ],
      "_model_module": "@jupyter-widgets/controls",
      "_model_module_version": "1.5.0",
      "_model_name": "VBoxModel",
      "_view_count": null,
      "_view_module": "@jupyter-widgets/controls",
      "_view_module_version": "1.5.0",
      "_view_name": "VBoxView",
      "box_style": "",
      "children": [
       "IPY_MODEL_980ac8c51b484f9786d7d95b978d9375",
       "IPY_MODEL_d8fec346fcc749f8926a3dd22a8dd4fa"
      ],
      "layout": "IPY_MODEL_e4b59a77dd6748fd9293252cc37c2d27"
     }
    },
    "3aeee48e13c24862aa5a2b6ecb6ca3d8": {
     "model_module": "@jupyter-widgets/output",
     "model_module_version": "1.0.0",
     "model_name": "OutputModel",
     "state": {
      "_dom_classes": [],
      "_model_module": "@jupyter-widgets/output",
      "_model_module_version": "1.0.0",
      "_model_name": "OutputModel",
      "_view_count": null,
      "_view_module": "@jupyter-widgets/output",
      "_view_module_version": "1.0.0",
      "_view_name": "OutputView",
      "layout": "IPY_MODEL_c5a280b00f4648048540e6042a3200ce",
      "msg_id": "",
      "outputs": [
       {
        "data": {
         "image/png": "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\n",
         "text/plain": "<Figure size 432x288 with 1 Axes>"
        },
        "metadata": {
         "needs_background": "light"
        },
        "output_type": "display_data"
       }
      ]
     }
    },
    "3d6c1f9d01b14121a6537cf125598054": {
     "model_module": "@jupyter-widgets/output",
     "model_module_version": "1.0.0",
     "model_name": "OutputModel",
     "state": {
      "_dom_classes": [],
      "_model_module": "@jupyter-widgets/output",
      "_model_module_version": "1.0.0",
      "_model_name": "OutputModel",
      "_view_count": null,
      "_view_module": "@jupyter-widgets/output",
      "_view_module_version": "1.0.0",
      "_view_name": "OutputView",
      "layout": "IPY_MODEL_df96abc74f0c48f58a5ed5188bbbeb69",
      "msg_id": "",
      "outputs": [
       {
        "data": {
         "image/png": "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\n",
         "text/plain": "<Figure size 432x288 with 1 Axes>"
        },
        "metadata": {
         "needs_background": "light"
        },
        "output_type": "display_data"
       }
      ]
     }
    },
    "40069d5edd83476c998c6d179a00fc26": {
     "model_module": "@jupyter-widgets/controls",
     "model_module_version": "1.5.0",
     "model_name": "SliderStyleModel",
     "state": {
      "_model_module": "@jupyter-widgets/controls",
      "_model_module_version": "1.5.0",
      "_model_name": "SliderStyleModel",
      "_view_count": null,
      "_view_module": "@jupyter-widgets/base",
      "_view_module_version": "1.2.0",
      "_view_name": "StyleView",
      "description_width": "",
      "handle_color": null
     }
    },
    "430a0d083ad245838a31c16e9c6dd975": {
     "model_module": "@jupyter-widgets/base",
     "model_module_version": "1.2.0",
     "model_name": "LayoutModel",
     "state": {
      "_model_module": "@jupyter-widgets/base",
      "_model_module_version": "1.2.0",
      "_model_name": "LayoutModel",
      "_view_count": null,
      "_view_module": "@jupyter-widgets/base",
      "_view_module_version": "1.2.0",
      "_view_name": "LayoutView",
      "align_content": null,
      "align_items": null,
      "align_self": null,
      "border": null,
      "bottom": null,
      "display": null,
      "flex": null,
      "flex_flow": null,
      "grid_area": null,
      "grid_auto_columns": null,
      "grid_auto_flow": null,
      "grid_auto_rows": null,
      "grid_column": null,
      "grid_gap": null,
      "grid_row": null,
      "grid_template_areas": null,
      "grid_template_columns": null,
      "grid_template_rows": null,
      "height": null,
      "justify_content": null,
      "justify_items": null,
      "left": null,
      "margin": null,
      "max_height": null,
      "max_width": null,
      "min_height": null,
      "min_width": null,
      "object_fit": null,
      "object_position": null,
      "order": null,
      "overflow": null,
      "overflow_x": null,
      "overflow_y": null,
      "padding": null,
      "right": null,
      "top": null,
      "visibility": null,
      "width": null
     }
    },
    "4c7e6315a97d47ddad0d3690d1c67ba0": {
     "model_module": "@jupyter-widgets/output",
     "model_module_version": "1.0.0",
     "model_name": "OutputModel",
     "state": {
      "_dom_classes": [],
      "_model_module": "@jupyter-widgets/output",
      "_model_module_version": "1.0.0",
      "_model_name": "OutputModel",
      "_view_count": null,
      "_view_module": "@jupyter-widgets/output",
      "_view_module_version": "1.0.0",
      "_view_name": "OutputView",
      "layout": "IPY_MODEL_5e3b64e3d8454f8d90e9225fbb23b90a",
      "msg_id": "",
      "outputs": [
       {
        "data": {
         "image/png": "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\n",
         "text/plain": "<Figure size 432x288 with 1 Axes>"
        },
        "metadata": {
         "needs_background": "light"
        },
        "output_type": "display_data"
       }
      ]
     }
    },
    "54daa78c2d7645f6a28827a2e000fa42": {
     "model_module": "@jupyter-widgets/controls",
     "model_module_version": "1.5.0",
     "model_name": "IntSliderModel",
     "state": {
      "_dom_classes": [],
      "_model_module": "@jupyter-widgets/controls",
      "_model_module_version": "1.5.0",
      "_model_name": "IntSliderModel",
      "_view_count": null,
      "_view_module": "@jupyter-widgets/controls",
      "_view_module_version": "1.5.0",
      "_view_name": "IntSliderView",
      "continuous_update": true,
      "description": "k",
      "description_tooltip": null,
      "disabled": false,
      "layout": "IPY_MODEL_b3b0947b385642f59b5daf4948a05913",
      "max": 39,
      "min": 0,
      "orientation": "horizontal",
      "readout": true,
      "readout_format": "d",
      "step": 1,
      "style": "IPY_MODEL_c6dae84b55ff4d7f8d3f7a1eddf4bd8c",
      "value": 19
     }
    },
    "553aed478a804a909ff84e0d94014cbf": {
     "model_module": "@jupyter-widgets/output",
     "model_module_version": "1.0.0",
     "model_name": "OutputModel",
     "state": {
      "_dom_classes": [],
      "_model_module": "@jupyter-widgets/output",
      "_model_module_version": "1.0.0",
      "_model_name": "OutputModel",
      "_view_count": null,
      "_view_module": "@jupyter-widgets/output",
      "_view_module_version": "1.0.0",
      "_view_name": "OutputView",
      "layout": "IPY_MODEL_8c5c41179b7b41f4b187779d5067a93e",
      "msg_id": "",
      "outputs": [
       {
        "data": {
         "image/png": "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\n",
         "text/plain": "<Figure size 432x288 with 1 Axes>"
        },
        "metadata": {
         "needs_background": "light"
        },
        "output_type": "display_data"
       }
      ]
     }
    },
    "5e3b64e3d8454f8d90e9225fbb23b90a": {
     "model_module": "@jupyter-widgets/base",
     "model_module_version": "1.2.0",
     "model_name": "LayoutModel",
     "state": {
      "_model_module": "@jupyter-widgets/base",
      "_model_module_version": "1.2.0",
      "_model_name": "LayoutModel",
      "_view_count": null,
      "_view_module": "@jupyter-widgets/base",
      "_view_module_version": "1.2.0",
      "_view_name": "LayoutView",
      "align_content": null,
      "align_items": null,
      "align_self": null,
      "border": null,
      "bottom": null,
      "display": null,
      "flex": null,
      "flex_flow": null,
      "grid_area": null,
      "grid_auto_columns": null,
      "grid_auto_flow": null,
      "grid_auto_rows": null,
      "grid_column": null,
      "grid_gap": null,
      "grid_row": null,
      "grid_template_areas": null,
      "grid_template_columns": null,
      "grid_template_rows": null,
      "height": null,
      "justify_content": null,
      "justify_items": null,
      "left": null,
      "margin": null,
      "max_height": null,
      "max_width": null,
      "min_height": null,
      "min_width": null,
      "object_fit": null,
      "object_position": null,
      "order": null,
      "overflow": null,
      "overflow_x": null,
      "overflow_y": null,
      "padding": null,
      "right": null,
      "top": null,
      "visibility": null,
      "width": null
     }
    },
    "628e80b93cc0422db0e36616d1ae4f37": {
     "model_module": "@jupyter-widgets/base",
     "model_module_version": "1.2.0",
     "model_name": "LayoutModel",
     "state": {
      "_model_module": "@jupyter-widgets/base",
      "_model_module_version": "1.2.0",
      "_model_name": "LayoutModel",
      "_view_count": null,
      "_view_module": "@jupyter-widgets/base",
      "_view_module_version": "1.2.0",
      "_view_name": "LayoutView",
      "align_content": null,
      "align_items": null,
      "align_self": null,
      "border": null,
      "bottom": null,
      "display": null,
      "flex": null,
      "flex_flow": null,
      "grid_area": null,
      "grid_auto_columns": null,
      "grid_auto_flow": null,
      "grid_auto_rows": null,
      "grid_column": null,
      "grid_gap": null,
      "grid_row": null,
      "grid_template_areas": null,
      "grid_template_columns": null,
      "grid_template_rows": null,
      "height": null,
      "justify_content": null,
      "justify_items": null,
      "left": null,
      "margin": null,
      "max_height": null,
      "max_width": null,
      "min_height": null,
      "min_width": null,
      "object_fit": null,
      "object_position": null,
      "order": null,
      "overflow": null,
      "overflow_x": null,
      "overflow_y": null,
      "padding": null,
      "right": null,
      "top": null,
      "visibility": null,
      "width": null
     }
    },
    "6dea5a14a4a0465ba293b081976b8ae6": {
     "model_module": "@jupyter-widgets/base",
     "model_module_version": "1.2.0",
     "model_name": "LayoutModel",
     "state": {
      "_model_module": "@jupyter-widgets/base",
      "_model_module_version": "1.2.0",
      "_model_name": "LayoutModel",
      "_view_count": null,
      "_view_module": "@jupyter-widgets/base",
      "_view_module_version": "1.2.0",
      "_view_name": "LayoutView",
      "align_content": null,
      "align_items": null,
      "align_self": null,
      "border": null,
      "bottom": null,
      "display": null,
      "flex": null,
      "flex_flow": null,
      "grid_area": null,
      "grid_auto_columns": null,
      "grid_auto_flow": null,
      "grid_auto_rows": null,
      "grid_column": null,
      "grid_gap": null,
      "grid_row": null,
      "grid_template_areas": null,
      "grid_template_columns": null,
      "grid_template_rows": null,
      "height": null,
      "justify_content": null,
      "justify_items": null,
      "left": null,
      "margin": null,
      "max_height": null,
      "max_width": null,
      "min_height": null,
      "min_width": null,
      "object_fit": null,
      "object_position": null,
      "order": null,
      "overflow": null,
      "overflow_x": null,
      "overflow_y": null,
      "padding": null,
      "right": null,
      "top": null,
      "visibility": null,
      "width": null
     }
    },
    "7159279c8ffb46c6b6baa253b60e2e46": {
     "model_module": "@jupyter-widgets/base",
     "model_module_version": "1.2.0",
     "model_name": "LayoutModel",
     "state": {
      "_model_module": "@jupyter-widgets/base",
      "_model_module_version": "1.2.0",
      "_model_name": "LayoutModel",
      "_view_count": null,
      "_view_module": "@jupyter-widgets/base",
      "_view_module_version": "1.2.0",
      "_view_name": "LayoutView",
      "align_content": null,
      "align_items": null,
      "align_self": null,
      "border": null,
      "bottom": null,
      "display": null,
      "flex": null,
      "flex_flow": null,
      "grid_area": null,
      "grid_auto_columns": null,
      "grid_auto_flow": null,
      "grid_auto_rows": null,
      "grid_column": null,
      "grid_gap": null,
      "grid_row": null,
      "grid_template_areas": null,
      "grid_template_columns": null,
      "grid_template_rows": null,
      "height": null,
      "justify_content": null,
      "justify_items": null,
      "left": null,
      "margin": null,
      "max_height": null,
      "max_width": null,
      "min_height": null,
      "min_width": null,
      "object_fit": null,
      "object_position": null,
      "order": null,
      "overflow": null,
      "overflow_x": null,
      "overflow_y": null,
      "padding": null,
      "right": null,
      "top": null,
      "visibility": null,
      "width": null
     }
    },
    "75c361b95d8f4f26923ce7a4ff04ad51": {
     "model_module": "@jupyter-widgets/base",
     "model_module_version": "1.2.0",
     "model_name": "LayoutModel",
     "state": {
      "_model_module": "@jupyter-widgets/base",
      "_model_module_version": "1.2.0",
      "_model_name": "LayoutModel",
      "_view_count": null,
      "_view_module": "@jupyter-widgets/base",
      "_view_module_version": "1.2.0",
      "_view_name": "LayoutView",
      "align_content": null,
      "align_items": null,
      "align_self": null,
      "border": null,
      "bottom": null,
      "display": null,
      "flex": null,
      "flex_flow": null,
      "grid_area": null,
      "grid_auto_columns": null,
      "grid_auto_flow": null,
      "grid_auto_rows": null,
      "grid_column": null,
      "grid_gap": null,
      "grid_row": null,
      "grid_template_areas": null,
      "grid_template_columns": null,
      "grid_template_rows": null,
      "height": null,
      "justify_content": null,
      "justify_items": null,
      "left": null,
      "margin": null,
      "max_height": null,
      "max_width": null,
      "min_height": null,
      "min_width": null,
      "object_fit": null,
      "object_position": null,
      "order": null,
      "overflow": null,
      "overflow_x": null,
      "overflow_y": null,
      "padding": null,
      "right": null,
      "top": null,
      "visibility": null,
      "width": null
     }
    },
    "793ba9bc2d0c4d019457062472b84729": {
     "model_module": "@jupyter-widgets/controls",
     "model_module_version": "1.5.0",
     "model_name": "IntSliderModel",
     "state": {
      "_dom_classes": [],
      "_model_module": "@jupyter-widgets/controls",
      "_model_module_version": "1.5.0",
      "_model_name": "IntSliderModel",
      "_view_count": null,
      "_view_module": "@jupyter-widgets/controls",
      "_view_module_version": "1.5.0",
      "_view_name": "IntSliderView",
      "continuous_update": true,
      "description": "k",
      "description_tooltip": null,
      "disabled": false,
      "layout": "IPY_MODEL_8667074b849946c3bf426fc83e0e78ba",
      "max": 29,
      "min": 0,
      "orientation": "horizontal",
      "readout": true,
      "readout_format": "d",
      "step": 1,
      "style": "IPY_MODEL_7ea5a67a0f2b46a7a45c2676c2c77de1",
      "value": 14
     }
    },
    "7ea5a67a0f2b46a7a45c2676c2c77de1": {
     "model_module": "@jupyter-widgets/controls",
     "model_module_version": "1.5.0",
     "model_name": "SliderStyleModel",
     "state": {
      "_model_module": "@jupyter-widgets/controls",
      "_model_module_version": "1.5.0",
      "_model_name": "SliderStyleModel",
      "_view_count": null,
      "_view_module": "@jupyter-widgets/base",
      "_view_module_version": "1.2.0",
      "_view_name": "StyleView",
      "description_width": "",
      "handle_color": null
     }
    },
    "828a28e6417b4b3c99233369beae2b3e": {
     "model_module": "@jupyter-widgets/base",
     "model_module_version": "1.2.0",
     "model_name": "LayoutModel",
     "state": {
      "_model_module": "@jupyter-widgets/base",
      "_model_module_version": "1.2.0",
      "_model_name": "LayoutModel",
      "_view_count": null,
      "_view_module": "@jupyter-widgets/base",
      "_view_module_version": "1.2.0",
      "_view_name": "LayoutView",
      "align_content": null,
      "align_items": null,
      "align_self": null,
      "border": null,
      "bottom": null,
      "display": null,
      "flex": null,
      "flex_flow": null,
      "grid_area": null,
      "grid_auto_columns": null,
      "grid_auto_flow": null,
      "grid_auto_rows": null,
      "grid_column": null,
      "grid_gap": null,
      "grid_row": null,
      "grid_template_areas": null,
      "grid_template_columns": null,
      "grid_template_rows": null,
      "height": null,
      "justify_content": null,
      "justify_items": null,
      "left": null,
      "margin": null,
      "max_height": null,
      "max_width": null,
      "min_height": null,
      "min_width": null,
      "object_fit": null,
      "object_position": null,
      "order": null,
      "overflow": null,
      "overflow_x": null,
      "overflow_y": null,
      "padding": null,
      "right": null,
      "top": null,
      "visibility": null,
      "width": null
     }
    },
    "8667074b849946c3bf426fc83e0e78ba": {
     "model_module": "@jupyter-widgets/base",
     "model_module_version": "1.2.0",
     "model_name": "LayoutModel",
     "state": {
      "_model_module": "@jupyter-widgets/base",
      "_model_module_version": "1.2.0",
      "_model_name": "LayoutModel",
      "_view_count": null,
      "_view_module": "@jupyter-widgets/base",
      "_view_module_version": "1.2.0",
      "_view_name": "LayoutView",
      "align_content": null,
      "align_items": null,
      "align_self": null,
      "border": null,
      "bottom": null,
      "display": null,
      "flex": null,
      "flex_flow": null,
      "grid_area": null,
      "grid_auto_columns": null,
      "grid_auto_flow": null,
      "grid_auto_rows": null,
      "grid_column": null,
      "grid_gap": null,
      "grid_row": null,
      "grid_template_areas": null,
      "grid_template_columns": null,
      "grid_template_rows": null,
      "height": null,
      "justify_content": null,
      "justify_items": null,
      "left": null,
      "margin": null,
      "max_height": null,
      "max_width": null,
      "min_height": null,
      "min_width": null,
      "object_fit": null,
      "object_position": null,
      "order": null,
      "overflow": null,
      "overflow_x": null,
      "overflow_y": null,
      "padding": null,
      "right": null,
      "top": null,
      "visibility": null,
      "width": null
     }
    },
    "893c425878c84c63bb78256a52d5f16b": {
     "model_module": "@jupyter-widgets/controls",
     "model_module_version": "1.5.0",
     "model_name": "VBoxModel",
     "state": {
      "_dom_classes": [
       "widget-interact"
      ],
      "_model_module": "@jupyter-widgets/controls",
      "_model_module_version": "1.5.0",
      "_model_name": "VBoxModel",
      "_view_count": null,
      "_view_module": "@jupyter-widgets/controls",
      "_view_module_version": "1.5.0",
      "_view_name": "VBoxView",
      "box_style": "",
      "children": [
       "IPY_MODEL_ab37095f8a0e462c943f6d89dbf49eee",
       "IPY_MODEL_2e379699ccaf43759dfe040b95c3a801"
      ],
      "layout": "IPY_MODEL_828a28e6417b4b3c99233369beae2b3e"
     }
    },
    "8c5c41179b7b41f4b187779d5067a93e": {
     "model_module": "@jupyter-widgets/base",
     "model_module_version": "1.2.0",
     "model_name": "LayoutModel",
     "state": {
      "_model_module": "@jupyter-widgets/base",
      "_model_module_version": "1.2.0",
      "_model_name": "LayoutModel",
      "_view_count": null,
      "_view_module": "@jupyter-widgets/base",
      "_view_module_version": "1.2.0",
      "_view_name": "LayoutView",
      "align_content": null,
      "align_items": null,
      "align_self": null,
      "border": null,
      "bottom": null,
      "display": null,
      "flex": null,
      "flex_flow": null,
      "grid_area": null,
      "grid_auto_columns": null,
      "grid_auto_flow": null,
      "grid_auto_rows": null,
      "grid_column": null,
      "grid_gap": null,
      "grid_row": null,
      "grid_template_areas": null,
      "grid_template_columns": null,
      "grid_template_rows": null,
      "height": null,
      "justify_content": null,
      "justify_items": null,
      "left": null,
      "margin": null,
      "max_height": null,
      "max_width": null,
      "min_height": null,
      "min_width": null,
      "object_fit": null,
      "object_position": null,
      "order": null,
      "overflow": null,
      "overflow_x": null,
      "overflow_y": null,
      "padding": null,
      "right": null,
      "top": null,
      "visibility": null,
      "width": null
     }
    },
    "9505ce0b95a943bfb5cf4cace1d47ff7": {
     "model_module": "@jupyter-widgets/base",
     "model_module_version": "1.2.0",
     "model_name": "LayoutModel",
     "state": {
      "_model_module": "@jupyter-widgets/base",
      "_model_module_version": "1.2.0",
      "_model_name": "LayoutModel",
      "_view_count": null,
      "_view_module": "@jupyter-widgets/base",
      "_view_module_version": "1.2.0",
      "_view_name": "LayoutView",
      "align_content": null,
      "align_items": null,
      "align_self": null,
      "border": null,
      "bottom": null,
      "display": null,
      "flex": null,
      "flex_flow": null,
      "grid_area": null,
      "grid_auto_columns": null,
      "grid_auto_flow": null,
      "grid_auto_rows": null,
      "grid_column": null,
      "grid_gap": null,
      "grid_row": null,
      "grid_template_areas": null,
      "grid_template_columns": null,
      "grid_template_rows": null,
      "height": null,
      "justify_content": null,
      "justify_items": null,
      "left": null,
      "margin": null,
      "max_height": null,
      "max_width": null,
      "min_height": null,
      "min_width": null,
      "object_fit": null,
      "object_position": null,
      "order": null,
      "overflow": null,
      "overflow_x": null,
      "overflow_y": null,
      "padding": null,
      "right": null,
      "top": null,
      "visibility": null,
      "width": null
     }
    },
    "96378473d26a409fa962798368ac9bcb": {
     "model_module": "@jupyter-widgets/controls",
     "model_module_version": "1.5.0",
     "model_name": "SliderStyleModel",
     "state": {
      "_model_module": "@jupyter-widgets/controls",
      "_model_module_version": "1.5.0",
      "_model_name": "SliderStyleModel",
      "_view_count": null,
      "_view_module": "@jupyter-widgets/base",
      "_view_module_version": "1.2.0",
      "_view_name": "StyleView",
      "description_width": "",
      "handle_color": null
     }
    },
    "980ac8c51b484f9786d7d95b978d9375": {
     "model_module": "@jupyter-widgets/controls",
     "model_module_version": "1.5.0",
     "model_name": "IntSliderModel",
     "state": {
      "_dom_classes": [],
      "_model_module": "@jupyter-widgets/controls",
      "_model_module_version": "1.5.0",
      "_model_name": "IntSliderModel",
      "_view_count": null,
      "_view_module": "@jupyter-widgets/controls",
      "_view_module_version": "1.5.0",
      "_view_name": "IntSliderView",
      "continuous_update": true,
      "description": "k",
      "description_tooltip": null,
      "disabled": false,
      "layout": "IPY_MODEL_d498195c28b64578969577475ab4a848",
      "max": 69,
      "min": 0,
      "orientation": "horizontal",
      "readout": true,
      "readout_format": "d",
      "step": 1,
      "style": "IPY_MODEL_1db89ce616b548da8a76fdd719fa7187",
      "value": 34
     }
    },
    "ab37095f8a0e462c943f6d89dbf49eee": {
     "model_module": "@jupyter-widgets/controls",
     "model_module_version": "1.5.0",
     "model_name": "IntSliderModel",
     "state": {
      "_dom_classes": [],
      "_model_module": "@jupyter-widgets/controls",
      "_model_module_version": "1.5.0",
      "_model_name": "IntSliderModel",
      "_view_count": null,
      "_view_module": "@jupyter-widgets/controls",
      "_view_module_version": "1.5.0",
      "_view_name": "IntSliderView",
      "continuous_update": true,
      "description": "k",
      "description_tooltip": null,
      "disabled": false,
      "layout": "IPY_MODEL_15cb766e36ca402c9d3d7a2ca889502e",
      "max": 29,
      "min": 0,
      "orientation": "horizontal",
      "readout": true,
      "readout_format": "d",
      "step": 1,
      "style": "IPY_MODEL_ef1818e43c6547e292c32651ccac8ec8",
      "value": 14
     }
    },
    "b3b0947b385642f59b5daf4948a05913": {
     "model_module": "@jupyter-widgets/base",
     "model_module_version": "1.2.0",
     "model_name": "LayoutModel",
     "state": {
      "_model_module": "@jupyter-widgets/base",
      "_model_module_version": "1.2.0",
      "_model_name": "LayoutModel",
      "_view_count": null,
      "_view_module": "@jupyter-widgets/base",
      "_view_module_version": "1.2.0",
      "_view_name": "LayoutView",
      "align_content": null,
      "align_items": null,
      "align_self": null,
      "border": null,
      "bottom": null,
      "display": null,
      "flex": null,
      "flex_flow": null,
      "grid_area": null,
      "grid_auto_columns": null,
      "grid_auto_flow": null,
      "grid_auto_rows": null,
      "grid_column": null,
      "grid_gap": null,
      "grid_row": null,
      "grid_template_areas": null,
      "grid_template_columns": null,
      "grid_template_rows": null,
      "height": null,
      "justify_content": null,
      "justify_items": null,
      "left": null,
      "margin": null,
      "max_height": null,
      "max_width": null,
      "min_height": null,
      "min_width": null,
      "object_fit": null,
      "object_position": null,
      "order": null,
      "overflow": null,
      "overflow_x": null,
      "overflow_y": null,
      "padding": null,
      "right": null,
      "top": null,
      "visibility": null,
      "width": null
     }
    },
    "b9b9ca086dd64253b2b61d1246518670": {
     "model_module": "@jupyter-widgets/controls",
     "model_module_version": "1.5.0",
     "model_name": "IntSliderModel",
     "state": {
      "_dom_classes": [],
      "_model_module": "@jupyter-widgets/controls",
      "_model_module_version": "1.5.0",
      "_model_name": "IntSliderModel",
      "_view_count": null,
      "_view_module": "@jupyter-widgets/controls",
      "_view_module_version": "1.5.0",
      "_view_name": "IntSliderView",
      "continuous_update": true,
      "description": "k",
      "description_tooltip": null,
      "disabled": false,
      "layout": "IPY_MODEL_6dea5a14a4a0465ba293b081976b8ae6",
      "max": 49,
      "min": 0,
      "orientation": "horizontal",
      "readout": true,
      "readout_format": "d",
      "step": 1,
      "style": "IPY_MODEL_dee37f5d176d4517bbc49aa3cda51c47",
      "value": 24
     }
    },
    "ba5e28014d554b94b2cc29f1138c2a99": {
     "model_module": "@jupyter-widgets/controls",
     "model_module_version": "1.5.0",
     "model_name": "IntSliderModel",
     "state": {
      "_dom_classes": [],
      "_model_module": "@jupyter-widgets/controls",
      "_model_module_version": "1.5.0",
      "_model_name": "IntSliderModel",
      "_view_count": null,
      "_view_module": "@jupyter-widgets/controls",
      "_view_module_version": "1.5.0",
      "_view_name": "IntSliderView",
      "continuous_update": true,
      "description": "k",
      "description_tooltip": null,
      "disabled": false,
      "layout": "IPY_MODEL_9505ce0b95a943bfb5cf4cace1d47ff7",
      "max": 99,
      "min": 0,
      "orientation": "horizontal",
      "readout": true,
      "readout_format": "d",
      "step": 1,
      "style": "IPY_MODEL_40069d5edd83476c998c6d179a00fc26",
      "value": 49
     }
    },
    "c5a280b00f4648048540e6042a3200ce": {
     "model_module": "@jupyter-widgets/base",
     "model_module_version": "1.2.0",
     "model_name": "LayoutModel",
     "state": {
      "_model_module": "@jupyter-widgets/base",
      "_model_module_version": "1.2.0",
      "_model_name": "LayoutModel",
      "_view_count": null,
      "_view_module": "@jupyter-widgets/base",
      "_view_module_version": "1.2.0",
      "_view_name": "LayoutView",
      "align_content": null,
      "align_items": null,
      "align_self": null,
      "border": null,
      "bottom": null,
      "display": null,
      "flex": null,
      "flex_flow": null,
      "grid_area": null,
      "grid_auto_columns": null,
      "grid_auto_flow": null,
      "grid_auto_rows": null,
      "grid_column": null,
      "grid_gap": null,
      "grid_row": null,
      "grid_template_areas": null,
      "grid_template_columns": null,
      "grid_template_rows": null,
      "height": null,
      "justify_content": null,
      "justify_items": null,
      "left": null,
      "margin": null,
      "max_height": null,
      "max_width": null,
      "min_height": null,
      "min_width": null,
      "object_fit": null,
      "object_position": null,
      "order": null,
      "overflow": null,
      "overflow_x": null,
      "overflow_y": null,
      "padding": null,
      "right": null,
      "top": null,
      "visibility": null,
      "width": null
     }
    },
    "c6dae84b55ff4d7f8d3f7a1eddf4bd8c": {
     "model_module": "@jupyter-widgets/controls",
     "model_module_version": "1.5.0",
     "model_name": "SliderStyleModel",
     "state": {
      "_model_module": "@jupyter-widgets/controls",
      "_model_module_version": "1.5.0",
      "_model_name": "SliderStyleModel",
      "_view_count": null,
      "_view_module": "@jupyter-widgets/base",
      "_view_module_version": "1.2.0",
      "_view_name": "StyleView",
      "description_width": "",
      "handle_color": null
     }
    },
    "d498195c28b64578969577475ab4a848": {
     "model_module": "@jupyter-widgets/base",
     "model_module_version": "1.2.0",
     "model_name": "LayoutModel",
     "state": {
      "_model_module": "@jupyter-widgets/base",
      "_model_module_version": "1.2.0",
      "_model_name": "LayoutModel",
      "_view_count": null,
      "_view_module": "@jupyter-widgets/base",
      "_view_module_version": "1.2.0",
      "_view_name": "LayoutView",
      "align_content": null,
      "align_items": null,
      "align_self": null,
      "border": null,
      "bottom": null,
      "display": null,
      "flex": null,
      "flex_flow": null,
      "grid_area": null,
      "grid_auto_columns": null,
      "grid_auto_flow": null,
      "grid_auto_rows": null,
      "grid_column": null,
      "grid_gap": null,
      "grid_row": null,
      "grid_template_areas": null,
      "grid_template_columns": null,
      "grid_template_rows": null,
      "height": null,
      "justify_content": null,
      "justify_items": null,
      "left": null,
      "margin": null,
      "max_height": null,
      "max_width": null,
      "min_height": null,
      "min_width": null,
      "object_fit": null,
      "object_position": null,
      "order": null,
      "overflow": null,
      "overflow_x": null,
      "overflow_y": null,
      "padding": null,
      "right": null,
      "top": null,
      "visibility": null,
      "width": null
     }
    },
    "d8fec346fcc749f8926a3dd22a8dd4fa": {
     "model_module": "@jupyter-widgets/output",
     "model_module_version": "1.0.0",
     "model_name": "OutputModel",
     "state": {
      "_dom_classes": [],
      "_model_module": "@jupyter-widgets/output",
      "_model_module_version": "1.0.0",
      "_model_name": "OutputModel",
      "_view_count": null,
      "_view_module": "@jupyter-widgets/output",
      "_view_module_version": "1.0.0",
      "_view_name": "OutputView",
      "layout": "IPY_MODEL_628e80b93cc0422db0e36616d1ae4f37",
      "msg_id": "",
      "outputs": [
       {
        "data": {
         "image/png": "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\n",
         "text/plain": "<Figure size 432x288 with 1 Axes>"
        },
        "metadata": {
         "needs_background": "light"
        },
        "output_type": "display_data"
       }
      ]
     }
    },
    "dee37f5d176d4517bbc49aa3cda51c47": {
     "model_module": "@jupyter-widgets/controls",
     "model_module_version": "1.5.0",
     "model_name": "SliderStyleModel",
     "state": {
      "_model_module": "@jupyter-widgets/controls",
      "_model_module_version": "1.5.0",
      "_model_name": "SliderStyleModel",
      "_view_count": null,
      "_view_module": "@jupyter-widgets/base",
      "_view_module_version": "1.2.0",
      "_view_name": "StyleView",
      "description_width": "",
      "handle_color": null
     }
    },
    "df96abc74f0c48f58a5ed5188bbbeb69": {
     "model_module": "@jupyter-widgets/base",
     "model_module_version": "1.2.0",
     "model_name": "LayoutModel",
     "state": {
      "_model_module": "@jupyter-widgets/base",
      "_model_module_version": "1.2.0",
      "_model_name": "LayoutModel",
      "_view_count": null,
      "_view_module": "@jupyter-widgets/base",
      "_view_module_version": "1.2.0",
      "_view_name": "LayoutView",
      "align_content": null,
      "align_items": null,
      "align_self": null,
      "border": null,
      "bottom": null,
      "display": null,
      "flex": null,
      "flex_flow": null,
      "grid_area": null,
      "grid_auto_columns": null,
      "grid_auto_flow": null,
      "grid_auto_rows": null,
      "grid_column": null,
      "grid_gap": null,
      "grid_row": null,
      "grid_template_areas": null,
      "grid_template_columns": null,
      "grid_template_rows": null,
      "height": null,
      "justify_content": null,
      "justify_items": null,
      "left": null,
      "margin": null,
      "max_height": null,
      "max_width": null,
      "min_height": null,
      "min_width": null,
      "object_fit": null,
      "object_position": null,
      "order": null,
      "overflow": null,
      "overflow_x": null,
      "overflow_y": null,
      "padding": null,
      "right": null,
      "top": null,
      "visibility": null,
      "width": null
     }
    },
    "e30e1ad4c1be422db9acaa6bb844b59d": {
     "model_module": "@jupyter-widgets/controls",
     "model_module_version": "1.5.0",
     "model_name": "VBoxModel",
     "state": {
      "_dom_classes": [
       "widget-interact"
      ],
      "_model_module": "@jupyter-widgets/controls",
      "_model_module_version": "1.5.0",
      "_model_name": "VBoxModel",
      "_view_count": null,
      "_view_module": "@jupyter-widgets/controls",
      "_view_module_version": "1.5.0",
      "_view_name": "VBoxView",
      "box_style": "",
      "children": [
       "IPY_MODEL_20212a5af9434857be31c9cc451b9814",
       "IPY_MODEL_3aeee48e13c24862aa5a2b6ecb6ca3d8"
      ],
      "layout": "IPY_MODEL_430a0d083ad245838a31c16e9c6dd975"
     }
    },
    "e382c41883df4df39cb9ef59e795e423": {
     "model_module": "@jupyter-widgets/base",
     "model_module_version": "1.2.0",
     "model_name": "LayoutModel",
     "state": {
      "_model_module": "@jupyter-widgets/base",
      "_model_module_version": "1.2.0",
      "_model_name": "LayoutModel",
      "_view_count": null,
      "_view_module": "@jupyter-widgets/base",
      "_view_module_version": "1.2.0",
      "_view_name": "LayoutView",
      "align_content": null,
      "align_items": null,
      "align_self": null,
      "border": null,
      "bottom": null,
      "display": null,
      "flex": null,
      "flex_flow": null,
      "grid_area": null,
      "grid_auto_columns": null,
      "grid_auto_flow": null,
      "grid_auto_rows": null,
      "grid_column": null,
      "grid_gap": null,
      "grid_row": null,
      "grid_template_areas": null,
      "grid_template_columns": null,
      "grid_template_rows": null,
      "height": null,
      "justify_content": null,
      "justify_items": null,
      "left": null,
      "margin": null,
      "max_height": null,
      "max_width": null,
      "min_height": null,
      "min_width": null,
      "object_fit": null,
      "object_position": null,
      "order": null,
      "overflow": null,
      "overflow_x": null,
      "overflow_y": null,
      "padding": null,
      "right": null,
      "top": null,
      "visibility": null,
      "width": null
     }
    },
    "e4b59a77dd6748fd9293252cc37c2d27": {
     "model_module": "@jupyter-widgets/base",
     "model_module_version": "1.2.0",
     "model_name": "LayoutModel",
     "state": {
      "_model_module": "@jupyter-widgets/base",
      "_model_module_version": "1.2.0",
      "_model_name": "LayoutModel",
      "_view_count": null,
      "_view_module": "@jupyter-widgets/base",
      "_view_module_version": "1.2.0",
      "_view_name": "LayoutView",
      "align_content": null,
      "align_items": null,
      "align_self": null,
      "border": null,
      "bottom": null,
      "display": null,
      "flex": null,
      "flex_flow": null,
      "grid_area": null,
      "grid_auto_columns": null,
      "grid_auto_flow": null,
      "grid_auto_rows": null,
      "grid_column": null,
      "grid_gap": null,
      "grid_row": null,
      "grid_template_areas": null,
      "grid_template_columns": null,
      "grid_template_rows": null,
      "height": null,
      "justify_content": null,
      "justify_items": null,
      "left": null,
      "margin": null,
      "max_height": null,
      "max_width": null,
      "min_height": null,
      "min_width": null,
      "object_fit": null,
      "object_position": null,
      "order": null,
      "overflow": null,
      "overflow_x": null,
      "overflow_y": null,
      "padding": null,
      "right": null,
      "top": null,
      "visibility": null,
      "width": null
     }
    },
    "eb6925424e6648488c38c865fccfb131": {
     "model_module": "@jupyter-widgets/controls",
     "model_module_version": "1.5.0",
     "model_name": "VBoxModel",
     "state": {
      "_dom_classes": [
       "widget-interact"
      ],
      "_model_module": "@jupyter-widgets/controls",
      "_model_module_version": "1.5.0",
      "_model_name": "VBoxModel",
      "_view_count": null,
      "_view_module": "@jupyter-widgets/controls",
      "_view_module_version": "1.5.0",
      "_view_name": "VBoxView",
      "box_style": "",
      "children": [
       "IPY_MODEL_54daa78c2d7645f6a28827a2e000fa42",
       "IPY_MODEL_2c4b8c23335f431c92e87571fcc986ad"
      ],
      "layout": "IPY_MODEL_75c361b95d8f4f26923ce7a4ff04ad51"
     }
    },
    "ef1818e43c6547e292c32651ccac8ec8": {
     "model_module": "@jupyter-widgets/controls",
     "model_module_version": "1.5.0",
     "model_name": "SliderStyleModel",
     "state": {
      "_model_module": "@jupyter-widgets/controls",
      "_model_module_version": "1.5.0",
      "_model_name": "SliderStyleModel",
      "_view_count": null,
      "_view_module": "@jupyter-widgets/base",
      "_view_module_version": "1.2.0",
      "_view_name": "StyleView",
      "description_width": "",
      "handle_color": null
     }
    },
    "f3309d2b5fe74ff2ba3e37ccd24de041": {
     "model_module": "@jupyter-widgets/base",
     "model_module_version": "1.2.0",
     "model_name": "LayoutModel",
     "state": {
      "_model_module": "@jupyter-widgets/base",
      "_model_module_version": "1.2.0",
      "_model_name": "LayoutModel",
      "_view_count": null,
      "_view_module": "@jupyter-widgets/base",
      "_view_module_version": "1.2.0",
      "_view_name": "LayoutView",
      "align_content": null,
      "align_items": null,
      "align_self": null,
      "border": null,
      "bottom": null,
      "display": null,
      "flex": null,
      "flex_flow": null,
      "grid_area": null,
      "grid_auto_columns": null,
      "grid_auto_flow": null,
      "grid_auto_rows": null,
      "grid_column": null,
      "grid_gap": null,
      "grid_row": null,
      "grid_template_areas": null,
      "grid_template_columns": null,
      "grid_template_rows": null,
      "height": null,
      "justify_content": null,
      "justify_items": null,
      "left": null,
      "margin": null,
      "max_height": null,
      "max_width": null,
      "min_height": null,
      "min_width": null,
      "object_fit": null,
      "object_position": null,
      "order": null,
      "overflow": null,
      "overflow_x": null,
      "overflow_y": null,
      "padding": null,
      "right": null,
      "top": null,
      "visibility": null,
      "width": null
     }
    },
    "f37b82b2d270458c829086954d54fc18": {
     "model_module": "@jupyter-widgets/base",
     "model_module_version": "1.2.0",
     "model_name": "LayoutModel",
     "state": {
      "_model_module": "@jupyter-widgets/base",
      "_model_module_version": "1.2.0",
      "_model_name": "LayoutModel",
      "_view_count": null,
      "_view_module": "@jupyter-widgets/base",
      "_view_module_version": "1.2.0",
      "_view_name": "LayoutView",
      "align_content": null,
      "align_items": null,
      "align_self": null,
      "border": null,
      "bottom": null,
      "display": null,
      "flex": null,
      "flex_flow": null,
      "grid_area": null,
      "grid_auto_columns": null,
      "grid_auto_flow": null,
      "grid_auto_rows": null,
      "grid_column": null,
      "grid_gap": null,
      "grid_row": null,
      "grid_template_areas": null,
      "grid_template_columns": null,
      "grid_template_rows": null,
      "height": null,
      "justify_content": null,
      "justify_items": null,
      "left": null,
      "margin": null,
      "max_height": null,
      "max_width": null,
      "min_height": null,
      "min_width": null,
      "object_fit": null,
      "object_position": null,
      "order": null,
      "overflow": null,
      "overflow_x": null,
      "overflow_y": null,
      "padding": null,
      "right": null,
      "top": null,
      "visibility": null,
      "width": null
     }
    },
    "ff56582566774df6a49bd30d563ce198": {
     "model_module": "@jupyter-widgets/controls",
     "model_module_version": "1.5.0",
     "model_name": "VBoxModel",
     "state": {
      "_dom_classes": [
       "widget-interact"
      ],
      "_model_module": "@jupyter-widgets/controls",
      "_model_module_version": "1.5.0",
      "_model_name": "VBoxModel",
      "_view_count": null,
      "_view_module": "@jupyter-widgets/controls",
      "_view_module_version": "1.5.0",
      "_view_name": "VBoxView",
      "box_style": "",
      "children": [
       "IPY_MODEL_793ba9bc2d0c4d019457062472b84729",
       "IPY_MODEL_553aed478a804a909ff84e0d94014cbf"
      ],
      "layout": "IPY_MODEL_f3309d2b5fe74ff2ba3e37ccd24de041"
     }
    }
   }
  }
 },
 "nbformat": 4,
 "nbformat_minor": 1
}
